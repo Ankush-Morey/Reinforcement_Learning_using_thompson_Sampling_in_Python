{
 "cells": [
  {
   "cell_type": "markdown",
   "metadata": {
    "id": "vPKTIRAtx232"
   },
   "source": [
    "# Thompson Sampling"
   ]
  },
  {
   "cell_type": "markdown",
   "metadata": {
    "id": "PqPv9zpAx-EE"
   },
   "source": [
    "## Importing the libraries"
   ]
  },
  {
   "cell_type": "code",
   "execution_count": 2,
   "metadata": {
    "executionInfo": {
     "elapsed": 139,
     "status": "ok",
     "timestamp": 1624976235098,
     "user": {
      "displayName": "Ankush Morey",
      "photoUrl": "https://lh3.googleusercontent.com/a-/AOh14GjVKfn7g2JwyGbt-6iZ9k80cvedAuZTxNrECftL3Q=s64",
      "userId": "13924124285132504062"
     },
     "user_tz": 240
    },
    "id": "lozuE-Fhx_QB"
   },
   "outputs": [],
   "source": [
    "import numpy as np\n",
    "import matplotlib.pyplot as plt\n",
    "import pandas as pd"
   ]
  },
  {
   "cell_type": "markdown",
   "metadata": {
    "id": "iqpVk5HhyGmO"
   },
   "source": [
    "## Importing the dataset"
   ]
  },
  {
   "cell_type": "code",
   "execution_count": 3,
   "metadata": {
    "executionInfo": {
     "elapsed": 278,
     "status": "ok",
     "timestamp": 1624976238692,
     "user": {
      "displayName": "Ankush Morey",
      "photoUrl": "https://lh3.googleusercontent.com/a-/AOh14GjVKfn7g2JwyGbt-6iZ9k80cvedAuZTxNrECftL3Q=s64",
      "userId": "13924124285132504062"
     },
     "user_tz": 240
    },
    "id": "kY4zzW4hyNfA"
   },
   "outputs": [],
   "source": [
    "dataset = pd.read_csv('Ads_CTR_Optimisation.csv')"
   ]
  },
  {
   "cell_type": "markdown",
   "metadata": {
    "id": "WqoXeWOYyQhB"
   },
   "source": [
    "## Implementing Thompson Sampling"
   ]
  },
  {
   "cell_type": "markdown",
   "metadata": {
    "id": "_C3EYWN5IXP8"
   },
   "source": []
  },
  {
   "cell_type": "code",
   "execution_count": 4,
   "metadata": {
    "executionInfo": {
     "elapsed": 536,
     "status": "ok",
     "timestamp": 1624976242261,
     "user": {
      "displayName": "Ankush Morey",
      "photoUrl": "https://lh3.googleusercontent.com/a-/AOh14GjVKfn7g2JwyGbt-6iZ9k80cvedAuZTxNrECftL3Q=s64",
      "userId": "13924124285132504062"
     },
     "user_tz": 240
    },
    "id": "PCiHv51pyUII"
   },
   "outputs": [],
   "source": [
    "import random\n",
    "N = 10000\n",
    "d = 10\n",
    "ads_selected = []\n",
    "numbers_of_rewards_1 = [0] * d\n",
    "numbers_of_rewards_0 = [0] * d\n",
    "total_reward = 0\n",
    "for n in range(0, N):\n",
    "  ad = 0\n",
    "  max_random = 0\n",
    "  for i in range(0, d):\n",
    "    random_beta = random.betavariate(numbers_of_rewards_1[i] + 1, numbers_of_rewards_0[i] + 1)\n",
    "    if (random_beta > max_random):\n",
    "      max_random = random_beta\n",
    "      ad = i\n",
    "  ads_selected.append(ad)\n",
    "  reward = dataset.values[n, ad]\n",
    "  if reward == 1:\n",
    "    numbers_of_rewards_1[ad] = numbers_of_rewards_1[ad] + 1\n",
    "  else:\n",
    "    numbers_of_rewards_0[ad] = numbers_of_rewards_0[ad] + 1\n",
    "  total_reward = total_reward + reward"
   ]
  },
  {
   "cell_type": "markdown",
   "metadata": {
    "id": "tweWsgTHyXhv"
   },
   "source": [
    "## Visualising the results - Histogram"
   ]
  },
  {
   "cell_type": "code",
   "execution_count": 5,
   "metadata": {
    "colab": {
     "base_uri": "https://localhost:8080/",
     "height": 295
    },
    "executionInfo": {
     "elapsed": 460,
     "status": "ok",
     "timestamp": 1624977288914,
     "user": {
      "displayName": "Ankush Morey",
      "photoUrl": "https://lh3.googleusercontent.com/a-/AOh14GjVKfn7g2JwyGbt-6iZ9k80cvedAuZTxNrECftL3Q=s64",
      "userId": "13924124285132504062"
     },
     "user_tz": 240
    },
    "id": "k8DJmN06yak3",
    "outputId": "25474f52-64c3-49ae-de92-9e03830d9da3"
   },
   "outputs": [
    {
     "data": {
      "image/png": "[encoded data removed]",
      "text/plain": [
       "<Figure size 432x288 with 1 Axes>"
      ]
     },
     "metadata": {
      "needs_background": "light"
     },
     "output_type": "display_data"
    }
   ],
   "source": [
    "plt.hist(ads_selected)\n",
    "plt.title('Histogram of ads selections')\n",
    "plt.xlabel('Ads')\n",
    "plt.ylabel('Number of times each ad was selected')\n",
    "plt.show()"
   ]
  },
  {
   "cell_type": "code",
   "execution_count": 6,
   "metadata": {
    "colab": {
     "base_uri": "https://localhost:8080/",
     "height": 295
    },
    "executionInfo": {
     "elapsed": 329,
     "status": "ok",
     "timestamp": 1624977386066,
     "user": {
      "displayName": "Ankush Morey",
      "photoUrl": "https://lh3.googleusercontent.com/a-/AOh14GjVKfn7g2JwyGbt-6iZ9k80cvedAuZTxNrECftL3Q=s64",
      "userId": "13924124285132504062"
     },
     "user_tz": 240
    },
    "id": "DDCEeKxwMiZP",
    "outputId": "9634939d-c075-4686-f607-d166c59d4404"
   },
   "outputs": [
    {
     "data": {
      "image/png": "[encoded data removed]",
      "text/plain": [
       "<Figure size 432x288 with 1 Axes>"
      ]
     },
     "metadata": {
      "needs_background": "light"
     },
     "output_type": "display_data"
    }
   ],
   "source": [
    "N = 500\n",
    "d = 10\n",
    "ads_selected = []\n",
    "numbers_of_rewards_1 = [0] * d\n",
    "numbers_of_rewards_0 = [0] * d\n",
    "total_reward = 0\n",
    "for n in range(0, N):\n",
    "  ad = 0\n",
    "  max_random = 0\n",
    "  for i in range(0, d):\n",
    "    random_beta = random.betavariate(numbers_of_rewards_1[i] + 1, numbers_of_rewards_0[i] + 1)\n",
    "    if (random_beta > max_random):\n",
    "      max_random = random_beta\n",
    "      ad = i\n",
    "  ads_selected.append(ad)\n",
    "  reward = dataset.values[n, ad]\n",
    "  if reward == 1:\n",
    "    numbers_of_rewards_1[ad] = numbers_of_rewards_1[ad] + 1\n",
    "  else:\n",
    "    numbers_of_rewards_0[ad] = numbers_of_rewards_0[ad] + 1\n",
    "  total_reward = total_reward + reward\n",
    "\n",
    "plt.hist(ads_selected)\n",
    "plt.title('Histogram of ads selections')\n",
    "plt.xlabel('Ads')\n",
    "plt.ylabel('Number of times each ad was selected')\n",
    "plt.show()"
   ]
  },
  {
   "cell_type": "markdown",
   "metadata": {},
   "source": [
    "We can see that, in as low as 500 trials, Thompson sampling is able to identify that ad 4 is the ad with highest Click through rate."
   ]
  }
 ],
 "metadata": {
  "colab": {
   "collapsed_sections": [],
   "name": "Copy of thompson_sampling.ipynb",
   "provenance": [
    {
     "file_id": "1eua_W5Kfrqj5eX4cmc0pOVhlcKQLJnl0",
     "timestamp": 1624975930508
    }
   ]
  },
  "kernelspec": {
   "display_name": "Python 3",
   "language": "python",
   "name": "python3"
  },
  "language_info": {
   "codemirror_mode": {
    "name": "ipython",
    "version": 3
   },
   "file_extension": ".py",
   "mimetype": "text/x-python",
   "name": "python",
   "nbconvert_exporter": "python",
   "pygments_lexer": "ipython3",
   "version": "3.8.5"
  }
 },
 "nbformat": 4,
 "nbformat_minor": 1
}
